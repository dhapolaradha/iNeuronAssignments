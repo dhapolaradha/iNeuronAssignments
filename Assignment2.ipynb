{
 "cells": [
  {
   "cell_type": "markdown",
   "metadata": {},
   "source": [
    "Task 1:"
   ]
  },
  {
   "cell_type": "markdown",
   "metadata": {},
   "source": [
    "1.1 Write a Python Program to implement your own myreduce() function which works exactly like Python's built-in function reduce()"
   ]
  },
  {
   "cell_type": "code",
   "execution_count": 26,
   "metadata": {},
   "outputs": [
    {
     "name": "stdout",
     "output_type": "stream",
     "text": [
      "Below are the various example of myreduce() function :\n",
      "Sum of a and b is : 28\n",
      "Multiplication of a and b is : 5040\n",
      "Subtraction of a and b is : -26\n",
      "Division of a and b is : 5040\n"
     ]
    }
   ],
   "source": [
    "l=[1,2,3,4,5,6,7]\n",
    "\n",
    "def myreduce(myfunc,listseq):\n",
    "    a=listseq[0]\n",
    "    for i in range(1,len(listseq)):\n",
    "        b=listseq[i]\n",
    "        c=myfunc(a,b)\n",
    "        a=c\n",
    "    return(a)\n",
    "print(\"Below are the various example of myreduce() function :\")\n",
    "print(\"Sum of a and b is : {}\".format(myreduce(lambda a,b:a+b,l)))        \n",
    "print(\"Multiplication of a and b is : {}\".format(myreduce(lambda a,b:a*b,l)))\n",
    "print(\"Subtraction of a and b is : {}\".format(myreduce(lambda a,b:a-b,l)))\n",
    "print(\"Division of a and b is : {}\".format(myreduce(lambda a,b:a*b,l)))"
   ]
  },
  {
   "cell_type": "markdown",
   "metadata": {},
   "source": [
    "1.2 Write a Python program to implement your own myfilter() function which works exactly like Python's built-in function filter()"
   ]
  },
  {
   "cell_type": "code",
   "execution_count": 24,
   "metadata": {},
   "outputs": [
    {
     "name": "stdout",
     "output_type": "stream",
     "text": [
      "Myfilter() function with even number check logic : [1, 3, 5, 7, 9]\n",
      "Myfilter() function with multiple of 3 logic : [3, 6]\n"
     ]
    }
   ],
   "source": [
    "#Implementing myfilter() function with even number logic\n",
    "\n",
    "l=[1,2,3,4,5,6,7,8,9]\n",
    "res=[]\n",
    "def evenNumber(i):\n",
    "    if i%2==0:\n",
    "        return True\n",
    "#print (evenNumber(l[2]))     \n",
    "\n",
    "def myfilter(myfunc,l):\n",
    "    for i in range(0,len(l)):\n",
    "            if myfunc(i)==True:\n",
    "                res.append(l[i])\n",
    "    return res\n",
    "print(\"Myfilter() function with even number check logic : {}\".format(myfilter(evenNumber,l)))\n",
    "\n",
    "\n",
    "#Implementing filter() function with multiple of 3 logic in a list \n",
    "\n",
    "def divisiblebythree(num):\n",
    "    if num%3==0:\n",
    "        return True\n",
    "#print(\"No is : {}\".format(divisiblebythree(1)) )   \n",
    "\n",
    "l=[1,2,3,4,5,6,7,8,9]\n",
    "result=[]\n",
    "def myfilter1(f,l):\n",
    "    for i in range(0,len(l)):\n",
    "        #print(\"value of i \" +str(i))\n",
    "        #print(\"Value of l[i]\"+str(l[i]))\n",
    "        res=f(l[i])\n",
    "        \n",
    "        if res ==True:\n",
    "            result.append(l[i])\n",
    "        #print(\"res is\"+str(res))\n",
    "    return result\n",
    "print(\"Myfilter() function with multiple of 3 logic : {}\". format(myfilter1(f=divisiblebythree,l=[1,2,3,4,5,6])))\n",
    "        "
   ]
  },
  {
   "cell_type": "markdown",
   "metadata": {},
   "source": [
    "2.Implement List comprehensions to produce the following lists. Write List comprehensions to produce the following Lists\n",
    "['A', 'C', 'A', 'D', 'G', 'I', ’L’, ‘ D’]\n",
    "['x', 'xx', 'xxx', 'xxxx', 'y', 'yy', 'yyy', 'yyyy', 'z', 'zz', 'zzz', 'zzzz']\n",
    "['x', 'y', 'z', 'xx', 'yy', 'zz', 'xx', 'yy', 'zz', 'xxxx', 'yyyy', 'zzzz']\n",
    "[[2], [3], [4], [3], [4], [5], [4], [5], [6]]\n",
    "[[2, 3, 4, 5], [3, 4, 5, 6], [4, 5, 6, 7], [5, 6, 7, 8]]\n",
    "[(1, 1), (2, 1), (3, 1), (1, 2), (2, 2), (3, 2), (1, 3), (2, 3), (3, 3)]"
   ]
  },
  {
   "cell_type": "code",
   "execution_count": 76,
   "metadata": {},
   "outputs": [
    {
     "name": "stdout",
     "output_type": "stream",
     "text": [
      "['A', 'C', 'A', 'D', 'G', 'I', 'L', 'D']\n",
      "\n",
      "['x', 'xx', 'xxx', 'xxxx', 'y', 'yy', 'yyy', 'yyyy', 'z', 'zz', 'zzz', 'zzzz']\n",
      "\n",
      "['x', 'y', 'z', 'xx', 'yy', 'zz', 'xxx', 'yyy', 'zzz', 'xxxx', 'yyyy', 'zzzz']\n",
      "\n",
      "[[2], [3], [4], [3], [4], [5], [4], [5], [6]]\n",
      "\n",
      "[[2, 3, 4, 5], [3, 4, 5, 6], [4, 5, 6, 7], [5, 6, 7, 8]]\n",
      "\n",
      "[(1, 1), (1, 2), (1, 3), (2, 1), (2, 2), (2, 3), (3, 1), (3, 2), (3, 3)]\n"
     ]
    }
   ],
   "source": [
    "#['A', 'C', 'A', 'D', 'G', 'I', ’L’, ‘ D’]\n",
    "mystr=\"ACADGILD\"\n",
    "print([mystr[i] for i in range(0,len(mystr))], end='\\n\\n')\n",
    "\n",
    "#['x', 'xx', 'xxx', 'xxxx', 'y', 'yy', 'yyy', 'yyyy', 'z', 'zz', 'zzz', 'zzzz']\n",
    "mystr=\"xyz\"\n",
    "print([mystr[i]*j for i in range(0,len(mystr)) for j in range(1,5)], end='\\n\\n')\n",
    "\n",
    "#['x', 'y', 'z', 'xx', 'yy', 'zz', 'xx', 'yy', 'zz', 'xxxx', 'yyyy', 'zzzz']\n",
    "mystr=\"xyz\"\n",
    "print([mystr[j]*i for i in range(1,5) for j in range(0,len(mystr))], end='\\n\\n')\n",
    "\n",
    "#[[2], [3], [4], [3], [4], [5], [4], [5], [6]]\n",
    "mystr=\"23456\"\n",
    "print([[int(mystr[i])+j] for i in range(0,3) for j in range(0,3)], end='\\n\\n')\n",
    "\n",
    "#[[2, 3, 4, 5], [3, 4, 5, 6], [4, 5, 6, 7], [5, 6, 7, 8]]\n",
    "mystr=\"2345678\"\n",
    "print ([[i for i in range(2,6)],[j for j in range(3,7)],[k for k in range(4,8)],[l for l in range(5,9)]], end='\\n\\n')\n",
    "\n",
    "#[(1, 1), (2, 1), (3, 1), (1, 2), (2, 2), (3, 2), (1, 3), (2, 3), (3, 3)]\n",
    "print ([(i,j) for i in range(1,4) for j in range(1,4)])"
   ]
  },
  {
   "cell_type": "markdown",
   "metadata": {},
   "source": [
    "3. Implement a function longestWord() that takes a list of words and returns the longest one.\n"
   ]
  },
  {
   "cell_type": "code",
   "execution_count": 50,
   "metadata": {},
   "outputs": [
    {
     "name": "stdout",
     "output_type": "stream",
     "text": [
      "Longest word in mystr is : weather\n"
     ]
    }
   ],
   "source": [
    "mystr=\"How is the weather today\"\n",
    "\n",
    "def longestWord(a):\n",
    "    l=0\n",
    "    templength=0\n",
    "    outputlongestword=\"\"\n",
    "    newstr=a.split()\n",
    "    for i in range(0,len(newstr)):\n",
    "        l=len(newstr[i])\n",
    "        if l>templength:\n",
    "            outputlongestword=newstr[i]\n",
    "            templength=l   \n",
    "    return(outputlongestword)\n",
    "print(\"Longest word in mystr is : {}\".format(longestWord(mystr)))"
   ]
  },
  {
   "cell_type": "markdown",
   "metadata": {},
   "source": [
    "Task 2:"
   ]
  },
  {
   "cell_type": "markdown",
   "metadata": {},
   "source": [
    "1.1\n",
    "Write a Python Program(with class concepts) to find the area of the triangle using the below\n",
    "formula.\n",
    "area = (s*(s-a)*(s-b)*(s-c)) ** 0.5\n",
    "Function to take the length of the sides of triangle from user should be defined in the parent\n",
    "class and function to calculate the area should be defined in subclass.\n"
   ]
  },
  {
   "cell_type": "code",
   "execution_count": 25,
   "metadata": {},
   "outputs": [
    {
     "name": "stdout",
     "output_type": "stream",
     "text": [
      "Please enter first side of triangle : \n"
     ]
    },
    {
     "name": "stdin",
     "output_type": "stream",
     "text": [
      " 2\n"
     ]
    },
    {
     "name": "stdout",
     "output_type": "stream",
     "text": [
      "Please enter second side of triangle : \n"
     ]
    },
    {
     "name": "stdin",
     "output_type": "stream",
     "text": [
      " 3\n"
     ]
    },
    {
     "name": "stdout",
     "output_type": "stream",
     "text": [
      "Please enter third side of triangle : \n"
     ]
    },
    {
     "name": "stdin",
     "output_type": "stream",
     "text": [
      " 4\n"
     ]
    },
    {
     "name": "stdout",
     "output_type": "stream",
     "text": [
      "Length of the sides of the triangle are : 2, 3, 4\n",
      "Area of the triangle with sides 2,3,4 is 4.21875\n"
     ]
    }
   ],
   "source": [
    "class LengthOfTriangle:\n",
    "    def askForLength(self):\n",
    "        print(\"Please enter first side of triangle : \")\n",
    "        self.a = input()\n",
    "        print(\"Please enter second side of triangle : \")\n",
    "        self. b= input()\n",
    "        print(\"Please enter third side of triangle : \")\n",
    "        self.c = input()\n",
    "        #print(\"Length of the sides of the triangle are :{},{},{}\".format(self.a),format(self.b),format(self.c))\n",
    "        print(f\"Length of the sides of the triangle are : {self.a}, {self.b}, {self.c}\")\n",
    "\n",
    "class Area(LengthOfTriangle):\n",
    "    def areaTriangle(self,*args):\n",
    "        self.s=0.5*(int(self.a)+int(self.b)+int(self.c))\n",
    "        self.area= ((self.s)*(self.s-int(self.a))*(self.s-int(self.b))*(self.s-int(self.c))) * 0.5\n",
    "        print(f\"Area of the triangle with sides {self.a},{self.b},{self.c} is {self.area}\")\n",
    "s = Area()\n",
    "s.askForLength()\n",
    "s.areaTriangle()\n",
    "    "
   ]
  },
  {
   "cell_type": "markdown",
   "metadata": {},
   "source": [
    "1.2\n",
    "Write a function filter_long_words() that takes a list of words and an integer n and returns the list\n",
    "of words that are longer than n.\n"
   ]
  },
  {
   "cell_type": "code",
   "execution_count": 54,
   "metadata": {},
   "outputs": [
    {
     "name": "stdout",
     "output_type": "stream",
     "text": [
      "List of words : How is the weather today, that are longer than n : ['weather', 'today']\n"
     ]
    }
   ],
   "source": [
    "mystr=\"How is the weather today\"\n",
    "\n",
    "def filter_long_words(a,n):\n",
    "    l=0\n",
    "    templength=n\n",
    "    outputlongestword=[]\n",
    "    newstr=a.split()\n",
    "    for i in range(0,len(newstr)):\n",
    "        l=len(newstr[i])\n",
    "        if l>templength:\n",
    "            outputlongestword.append(newstr[i])\n",
    "    return(outputlongestword)        \n",
    "print(\"List of words : {}, that are longer than n : {}\".format(mystr,filter_long_words(mystr,3)))            "
   ]
  },
  {
   "cell_type": "markdown",
   "metadata": {},
   "source": [
    "2.1\n",
    "Write a Python program using function concept that maps list of words into a list of integers\n",
    "representing the lengths of the corresponding words.\n",
    "Hint: If a list [ ab,cde,erty] is passed on to the python function output should come as [2,3,4]\n",
    "Here 2,3 and 4 are the lengths of the words in the list."
   ]
  },
  {
   "cell_type": "code",
   "execution_count": 55,
   "metadata": {},
   "outputs": [
    {
     "name": "stdout",
     "output_type": "stream",
     "text": [
      "List of words ['ab', 'cde', 'erty'] map to a list of integer is :[2, 3, 4]\n"
     ]
    }
   ],
   "source": [
    "str=['ab','cde','erty']\n",
    "def map_words_int(mystr):\n",
    "    output=[]\n",
    "    for i in range(0,len(mystr)):\n",
    "        l=len(mystr[i])\n",
    "        output.append(l)\n",
    "    return output\n",
    "print(\"List of words {} map to a list of integer is :{}\".format(str,map_words_int(str)))"
   ]
  },
  {
   "cell_type": "markdown",
   "metadata": {},
   "source": [
    "Write a Python function which takes a character (i.e. a string of length 1) and returns True if it is\n",
    "a vowel, False otherwise."
   ]
  },
  {
   "cell_type": "code",
   "execution_count": 78,
   "metadata": {},
   "outputs": [
    {
     "name": "stdout",
     "output_type": "stream",
     "text": [
      "b\n",
      "False\n"
     ]
    }
   ],
   "source": [
    "def check_vowel(n):\n",
    "    print(n)\n",
    "    if n=='a' or n=='e' or n=='i' or n=='o' or n=='u':\n",
    "        return True\n",
    "    else:\n",
    "        return False\n",
    "print(check_vowel('b'))    "
   ]
  },
  {
   "cell_type": "code",
   "execution_count": null,
   "metadata": {},
   "outputs": [],
   "source": []
  }
 ],
 "metadata": {
  "kernelspec": {
   "display_name": "Python 3",
   "language": "python",
   "name": "python3"
  },
  "language_info": {
   "codemirror_mode": {
    "name": "ipython",
    "version": 3
   },
   "file_extension": ".py",
   "mimetype": "text/x-python",
   "name": "python",
   "nbconvert_exporter": "python",
   "pygments_lexer": "ipython3",
   "version": "3.7.7"
  }
 },
 "nbformat": 4,
 "nbformat_minor": 4
}
